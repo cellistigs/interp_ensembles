{
 "cells": [
  {
   "cell_type": "code",
   "execution_count": 1,
   "id": "e88c0a42",
   "metadata": {},
   "outputs": [],
   "source": [
    "import joblib\n",
    "import matplotlib.pyplot as plt\n",
    "import numpy as np\n",
    "import os\n",
    "from scipy.stats import gaussian_kde\n",
    "here = globals()['_dh'][0]\n",
    "plt.style.use(os.path.join(here,\"../etc/config/geoff_stylesheet.mplstyle\"))\n",
    "import seaborn as sns\n",
    "from sklearn.metrics import r2_score\n",
    "import torch\n",
    "\n",
    "import matplotlib as mpl\n",
    "%matplotlib inline\n",
    "mpl.rc_file_defaults()"
   ]
  },
  {
   "cell_type": "code",
   "execution_count": 2,
   "id": "a382e9ea",
   "metadata": {},
   "outputs": [],
   "source": [
    "basedir = \"../results/cinic_example/\"\n",
    "ind_prob_paths = [\n",
    "    os.path.join(basedir, basename)\n",
    "    for basename in os.listdir(basedir)\n",
    "    if \"base_wideresnet28_10ind_preds\" in basename\n",
    "]\n",
    "# basedir = \"../models/cinic_wrn28_10/\"\n",
    "ood_prob_paths = [\n",
    "    os.path.join(basedir, basename)\n",
    "    for basename in os.listdir(basedir)\n",
    "    if \"base_wideresnet28_10ood_cinic_preds\" in basename\n",
    "]\n",
    "num_classes = 10"
   ]
  },
  {
   "cell_type": "code",
   "execution_count": 3,
   "id": "77ba0b11",
   "metadata": {},
   "outputs": [],
   "source": [
    "ind_probs = torch.stack([\n",
    "    torch.tensor(np.load(ind_prob_path)).float()\n",
    "    for ind_prob_path in ind_prob_paths\n",
    "], dim=-2).softmax(dim=-1)\n",
    "ind_labels = torch.tensor(np.load(ind_prob_paths[0].replace(\"preds\", \"labels\"))).long()\n",
    "ind_indices = ind_labels\n",
    "# ind_indices = torch.randperm(len(ind_probs))[:10000]\n",
    "\n",
    "ood_probs = torch.stack([\n",
    "    torch.tensor(np.load(ood_prob_path)).float()\n",
    "    for ood_prob_path in ood_prob_paths\n",
    "], dim=-2).softmax(dim=-1)\n",
    "ood_labels = torch.tensor(np.load(ood_prob_paths[0].replace(\"preds\", \"labels\"))).long()\n",
    "ood_indices = ood_labels\n",
    "# ood_indices = torch.randperm(len(ood_probs))[:10000]"
   ]
  },
  {
   "cell_type": "code",
   "execution_count": 4,
   "id": "b29a51bc",
   "metadata": {},
   "outputs": [],
   "source": [
    "ind_ef2 = ind_probs[ind_indices].pow(2).sum(dim=-1).mean(dim=-1)\n",
    "ood_ef2 = ood_probs[ood_indices].pow(2).sum(dim=-1).mean(dim=-1)"
   ]
  },
  {
   "cell_type": "code",
   "execution_count": 5,
   "id": "501a9d9b",
   "metadata": {},
   "outputs": [],
   "source": [
    "ind_var = ind_probs[ind_indices].var(dim=-2).sum(dim=-1)\n",
    "ood_var = ood_probs[ood_indices].var(dim=-2).sum(dim=-1)"
   ]
  },
  {
   "cell_type": "code",
   "execution_count": 6,
   "id": "e3e92e1d",
   "metadata": {},
   "outputs": [
    {
     "data": {
      "text/plain": [
       "tensor([[[9.9985e-01, 8.1714e-06, 3.3780e-05,  ..., 5.3157e-06,\n",
       "          3.8632e-05, 3.2646e-05],\n",
       "         [9.9958e-01, 2.1336e-05, 1.0072e-04,  ..., 1.5654e-05,\n",
       "          1.4999e-04, 6.4279e-05],\n",
       "         [9.9970e-01, 1.5725e-05, 4.8781e-05,  ..., 8.6205e-06,\n",
       "          1.5936e-04, 1.6809e-05],\n",
       "         [9.9908e-01, 4.1518e-05, 1.3902e-04,  ..., 2.7399e-05,\n",
       "          4.6640e-04, 1.2222e-04],\n",
       "         [9.9951e-01, 3.6673e-05, 2.2757e-04,  ..., 1.4393e-05,\n",
       "          9.0735e-05, 3.7059e-05]],\n",
       "\n",
       "        [[1.7842e-05, 1.5482e-05, 1.1705e-05,  ..., 2.8837e-05,\n",
       "          1.0219e-05, 9.6055e-06],\n",
       "         [5.5938e-06, 5.9320e-06, 4.5542e-06,  ..., 8.2829e-06,\n",
       "          3.4784e-06, 3.7468e-06],\n",
       "         [1.4686e-05, 1.1770e-05, 1.4212e-05,  ..., 2.2668e-05,\n",
       "          1.3522e-05, 1.0842e-05],\n",
       "         [5.3980e-06, 5.7781e-06, 5.0772e-06,  ..., 1.0552e-05,\n",
       "          3.7193e-06, 4.7021e-06],\n",
       "         [5.9710e-06, 5.6661e-06, 7.6201e-06,  ..., 7.3081e-06,\n",
       "          3.5808e-06, 4.8113e-06]],\n",
       "\n",
       "        [[1.7842e-05, 1.5482e-05, 1.1705e-05,  ..., 2.8837e-05,\n",
       "          1.0219e-05, 9.6055e-06],\n",
       "         [5.5938e-06, 5.9320e-06, 4.5542e-06,  ..., 8.2829e-06,\n",
       "          3.4784e-06, 3.7468e-06],\n",
       "         [1.4686e-05, 1.1770e-05, 1.4212e-05,  ..., 2.2668e-05,\n",
       "          1.3522e-05, 1.0842e-05],\n",
       "         [5.3980e-06, 5.7781e-06, 5.0772e-06,  ..., 1.0552e-05,\n",
       "          3.7193e-06, 4.7021e-06],\n",
       "         [5.9710e-06, 5.6661e-06, 7.6201e-06,  ..., 7.3081e-06,\n",
       "          3.5808e-06, 4.8113e-06]],\n",
       "\n",
       "        ...,\n",
       "\n",
       "        [[6.8173e-06, 8.3044e-06, 2.0647e-05,  ..., 8.0057e-06,\n",
       "          9.1289e-06, 8.6165e-06],\n",
       "         [4.8276e-06, 8.5483e-06, 1.1349e-05,  ..., 5.9695e-06,\n",
       "          7.1008e-06, 6.5165e-06],\n",
       "         [4.6652e-06, 7.0587e-06, 1.6434e-05,  ..., 5.4772e-06,\n",
       "          7.1770e-06, 6.9820e-06],\n",
       "         [4.3853e-06, 5.8862e-06, 1.0805e-05,  ..., 6.0751e-06,\n",
       "          6.8332e-06, 7.5290e-06],\n",
       "         [5.5643e-06, 8.2904e-06, 1.3757e-05,  ..., 8.3525e-06,\n",
       "          7.3604e-06, 7.6012e-06]],\n",
       "\n",
       "        [[6.6637e-05, 2.1481e-04, 1.7107e-05,  ..., 2.0597e-05,\n",
       "          9.9956e-01, 3.5345e-05],\n",
       "         [7.8938e-05, 1.4146e-04, 2.0031e-05,  ..., 1.9603e-05,\n",
       "          9.9962e-01, 3.5269e-05],\n",
       "         [1.2692e-04, 7.3948e-05, 1.7617e-05,  ..., 1.7549e-05,\n",
       "          9.9965e-01, 3.7924e-05],\n",
       "         [1.1074e-04, 4.0303e-04, 2.4025e-05,  ..., 2.4431e-05,\n",
       "          9.9924e-01, 7.4019e-05],\n",
       "         [4.0473e-05, 1.2579e-04, 9.3370e-06,  ..., 1.1008e-05,\n",
       "          9.9974e-01, 2.0920e-05]],\n",
       "\n",
       "        [[5.3751e-05, 3.9274e-05, 4.6660e-04,  ..., 4.4497e-05,\n",
       "          4.1970e-05, 5.4492e-05],\n",
       "         [9.1438e-06, 1.1676e-05, 2.2882e-05,  ..., 1.2221e-05,\n",
       "          8.3793e-06, 1.0039e-05],\n",
       "         [1.3298e-05, 1.0496e-05, 7.3008e-05,  ..., 3.0750e-05,\n",
       "          1.2757e-05, 2.0366e-05],\n",
       "         [9.8263e-06, 1.1377e-05, 3.6585e-05,  ..., 1.6598e-05,\n",
       "          1.3267e-05, 1.4339e-05],\n",
       "         [1.6295e-05, 1.4938e-05, 5.1719e-05,  ..., 1.5453e-05,\n",
       "          1.5430e-05, 1.6935e-05]]])"
      ]
     },
     "execution_count": 6,
     "metadata": {},
     "output_type": "execute_result"
    }
   ],
   "source": [
    "ind_probs[ind_indices]"
   ]
  },
  {
   "cell_type": "code",
   "execution_count": 7,
   "id": "b4955c51",
   "metadata": {},
   "outputs": [],
   "source": [
    "ind_ef2_kde = gaussian_kde(ind_ef2, bw_method=len(ind_indices) ** (-.25))\n",
    "ood_ef2_kde = gaussian_kde(ood_ef2, bw_method=len(ood_indices) ** (-.25))"
   ]
  },
  {
   "cell_type": "code",
   "execution_count": 8,
   "id": "67b64e81",
   "metadata": {},
   "outputs": [],
   "source": [
    "ind_joint_kde = gaussian_kde(np.stack([ind_ef2, ind_var]), bw_method=len(ind_indices) ** (-.25))\n",
    "ood_joint_kde = gaussian_kde(np.stack([ood_ef2, ood_var]), bw_method=len(ood_indices) ** (-.25))"
   ]
  },
  {
   "cell_type": "code",
   "execution_count": 9,
   "id": "1c252947",
   "metadata": {},
   "outputs": [],
   "source": [
    "xs = np.linspace(0., 1., 101)\n",
    "x_grid, y_grid = np.meshgrid(xs, xs)\n",
    "joint = np.stack([x_grid.reshape(-1), y_grid.reshape(-1)])"
   ]
  },
  {
   "cell_type": "code",
   "execution_count": null,
   "id": "c7827428",
   "metadata": {},
   "outputs": [
    {
     "name": "stderr",
     "output_type": "stream",
     "text": [
      "/var/folders/1f/b2_sjx654d35kr09mh0stb5r0000gn/T/ipykernel_98343/1006032397.py:27: UserWarning: To copy construct from a tensor, it is recommended to use sourceTensor.clone().detach() or sourceTensor.clone().detach().requires_grad_(True), rather than torch.tensor(sourceTensor).\n",
      "  ind_cond_expec = ind_model(torch.tensor(cond_expec_xs).double()).mean\n",
      "/var/folders/1f/b2_sjx654d35kr09mh0stb5r0000gn/T/ipykernel_98343/1006032397.py:28: UserWarning: To copy construct from a tensor, it is recommended to use sourceTensor.clone().detach() or sourceTensor.clone().detach().requires_grad_(True), rather than torch.tensor(sourceTensor).\n",
      "  ood_cond_expec = ood_model(torch.tensor(cond_expec_xs).double()).mean\n"
     ]
    }
   ],
   "source": [
    "import gpytorch\n",
    "\n",
    "class GPModel(gpytorch.models.ExactGP):\n",
    "    def __init__(self, metrics, variances):\n",
    "        likelihood = gpytorch.likelihoods.GaussianLikelihood()\n",
    "        super().__init__(metrics, variances, likelihood)\n",
    "        self.mean_module = gpytorch.means.ZeroMean()\n",
    "        self.covar_module = gpytorch.kernels.RBFKernel()\n",
    "        self.covar_module.initialize(lengthscale=(len(variances) ** (-.25)))\n",
    "        self.likelihood.initialize(noise=1e-4)\n",
    "        \n",
    "    def forward(self, x):\n",
    "        mean = self.mean_module(x)\n",
    "        covar = self.covar_module(x)\n",
    "        return gpytorch.distributions.MultivariateNormal(mean, covar)\n",
    "\n",
    "\n",
    "ind_model = GPModel(ind_ef2.double(), ind_var.double()).double()\n",
    "ood_model = GPModel(ood_ef2.double(), ood_var.double()).double()\n",
    "ind_model.eval()\n",
    "ood_model.eval()\n",
    "\n",
    "start_conf = 1. / num_classes\n",
    "cond_expec_xs = torch.linspace(start_conf, 1., int((1. - start_conf) * 100) + 1)\n",
    "with torch.no_grad(), gpytorch.settings.skip_posterior_variances():\n",
    "    with gpytorch.settings.max_cholesky_size(1e6):\n",
    "        ind_cond_expec = ind_model(torch.tensor(cond_expec_xs).double()).mean\n",
    "        ood_cond_expec = ood_model(torch.tensor(cond_expec_xs).double()).mean\n",
    "        \n",
    "        ind_preds_ind = ind_model(torch.tensor(ind_ef2.double())).mean\n",
    "        ood_preds_ood = ood_model(torch.tensor(ood_ef2.double())).mean\n",
    "        ind_preds_ood = ind_model(torch.tensor(ood_ef2.double())).mean\n",
    "        ood_preds_ind = ood_model(torch.tensor(ind_ef2.double())).mean\n",
    "        print(\"R^2 ind predicts ind: {}\".format(r2_score(ind_var,ind_preds_ind)))\n",
    "        print(\"R^2 ood predicts ind: {}\".format(r2_score(ind_var,ood_preds_ind)))\n",
    "        print(\"R^2 ind predicts ood: {}\".format(r2_score(ood_var,ood_preds_ood)))\n",
    "        print(\"R^2 ood predicts ood: {}\".format(r2_score(ood_var,ind_preds_ood)))"
   ]
  },
  {
   "cell_type": "code",
   "execution_count": null,
   "id": "a2a4fbcd",
   "metadata": {},
   "outputs": [],
   "source": []
  },
  {
   "cell_type": "code",
   "execution_count": null,
   "id": "58fd0f43",
   "metadata": {
    "scrolled": true
   },
   "outputs": [],
   "source": [
    "fig, (var_ax, ind_cond_ax, ood_cond_ax, cond_exp_ax) = plt.subplots(\n",
    "    1, 4, figsize=(12, 3), sharex=True, sharey=False\n",
    ")\n",
    "levels = np.linspace(-3., 3., 51)\n",
    "\n",
    "sns.kdeplot(ind_var, ax=var_ax)\n",
    "sns.kdeplot(ood_var, ax=var_ax)\n",
    "var_ax.set(xlabel=\"Var.\", title=\"Marginal Var. Dist.\\nComparison\", ylim=(0., 15.))\n",
    "\n",
    "ind_vals = ind_joint_kde(joint).reshape(x_grid.shape)\n",
    "ind_vals = ind_vals / ind_ef2_kde(x_grid.ravel()).reshape(x_grid.shape)\n",
    "ind_vals = np.where(x_grid < (1. / num_classes), 0., ind_vals)\n",
    "f = ind_cond_ax.contourf(\n",
    "    x_grid, y_grid, ind_vals.clip(0., 10.),\n",
    "    cmap=\"Blues\",\n",
    "    levels=np.linspace(0., 10., 50),\n",
    ")\n",
    "ind_cond_ax.set(\n",
    "    xlim=(0., 1.), ylim=(0., 1.), xlabel=r\"Avg. Conf. ($ E[ \\Vert f \\Vert^2 ]$)\",\n",
    "    ylabel=r\"Variance\", title=\"Conditional Var. Dist.\\nCIFAR10 (InD)\"\n",
    ")\n",
    "fig.colorbar(f, ax=ind_cond_ax)\n",
    "\n",
    "ood_vals = ood_joint_kde(joint).reshape(x_grid.shape)\n",
    "ood_vals = ood_vals / ood_ef2_kde(x_grid.ravel()).reshape(x_grid.shape)\n",
    "ood_vals = np.where(x_grid < (1. / num_classes), 0., ood_vals)\n",
    "f = ood_cond_ax.contourf(\n",
    "    x_grid, y_grid, ood_vals.clip(0., 10.),\n",
    "    cmap=\"Oranges\",\n",
    "    levels=np.linspace(0., 10., 50),\n",
    ")\n",
    "ood_cond_ax.set(\n",
    "    xlabel=r\"Avg. Conf. ($ E[ \\Vert f \\Vert^2 ]$)\",\n",
    "    title=\"Conditional Var. Dist.\\nCINIC10 (OOD)\",\n",
    "    yticks=[]\n",
    ")\n",
    "fig.colorbar(f, ax=ood_cond_ax)\n",
    "\n",
    "cond_exp_ax.plot(cond_expec_xs, ind_cond_expec, label=\"CIFAR10 (InD)\")\n",
    "cond_exp_ax.plot(cond_expec_xs, ood_cond_expec, label=\"CINIC10 (OOD)\")\n",
    "cond_exp_ax.set(\n",
    "    ylim=(0., 1.), \n",
    "    ylabel=\"Conditional Variance\",#r\"$E [ \\textrm{Var} \\mid \\textrm{Conf} ]$\",\n",
    "    xlabel=\"Avg. Confidence \",#r\"Avg. Conf. ($ E[ \\Vert f \\Vert^2 ]$)\",\n",
    "    title=\"Conditionally Expected Var.\\nComparison\"\n",
    ")\n",
    "cond_exp_ax.legend(loc=\"best\")\n",
    "fig.tight_layout()"
   ]
  },
  {
   "cell_type": "code",
   "execution_count": null,
   "id": "d03d7970",
   "metadata": {},
   "outputs": [],
   "source": []
  },
  {
   "cell_type": "code",
   "execution_count": null,
   "id": "12836029",
   "metadata": {},
   "outputs": [],
   "source": [
    "model_indices = torch.tensor([\n",
    "    [0, 1, 2, 3],\n",
    "    [1, 2, 3, 4],\n",
    "    [2, 3, 4, 0],\n",
    "    [3, 4, 0, 1],\n",
    "    [4, 0, 1, 2]\n",
    "])\n",
    "bs_ind_vars = (ind_probs[ind_indices].permute(1, 0, 2)[model_indices].\n",
    "               var(dim=-3).sum(dim=-1).mean(dim=-1))\n",
    "bs_ood_vars = (ood_probs[ood_indices].permute(1, 0, 2)[model_indices].\n",
    "               var(dim=-3).sum(dim=-1).mean(dim=-1))\n",
    "bs_ind_vars, bs_ood_vars"
   ]
  },
  {
   "cell_type": "code",
   "execution_count": null,
   "id": "06dc8d9b",
   "metadata": {},
   "outputs": [],
   "source": [
    "fig, (var_ax, cond_exp_ax) = plt.subplots(\n",
    "    1, 2, figsize=(6, 3), sharex=False, sharey=False\n",
    ")\n",
    "print([ind_var.mean().item(), ood_var.mean().item()])\n",
    "sns.barplot(x=[\"CIFAR10\\n(InD)\", \"CINIC10\\n(OOD)\"], y=[ind_var.mean().item(), ood_var.mean().item()], ax=var_ax)\n",
    "var_ax.set(ylabel=\"Avg. Var.\", title=\"Marginal Var.\\nComparison\")\n",
    "\n",
    "cond_exp_ax.plot(1. - cond_expec_xs, ind_cond_expec, label=\"CIFAR10 (InD)\")\n",
    "cond_exp_ax.plot(1. - cond_expec_xs, ood_cond_expec, label=\"CINIC10 (OOD)\")\n",
    "cond_exp_ax.set(\n",
    "    ylim=(0., 0.5), xlim=(0., 1.),\n",
    "    ylabel=r\"$E [ \\textrm{Var} \\mid \\textrm{Uncertainty} ]$\",\n",
    "    xlabel=r\"Aleatoric Uncertainty\",\n",
    "    title=\"Conditionally Expected Var.\\nComparison\"\n",
    ")\n",
    "cond_exp_ax.legend(loc=\"best\")\n",
    "fig.tight_layout()\n",
    "fig.subplots_adjust(wspace=0.5)\n",
    "fig.savefig(\"conditional_fig_talk.pdf\", transparent=True)"
   ]
  },
  {
   "cell_type": "code",
   "execution_count": null,
   "id": "c6bf7030",
   "metadata": {},
   "outputs": [],
   "source": [
    "# xs = torch.rand(20).mul(5.).sort()[0]\n",
    "# model = GPModel(xs, torch.randn(xs.size(0)))\n",
    "# model.eval()\n",
    "# with torch.no_grad(), gpytorch.settings.prior_mode():\n",
    "#     ys = model(xs).rsample()\n",
    "# plt.plot(xs, ys)"
   ]
  },
  {
   "cell_type": "code",
   "execution_count": null,
   "id": "924ce039",
   "metadata": {},
   "outputs": [],
   "source": [
    "# model = GPModel(xs, ys)\n",
    "# model.eval()\n",
    "\n",
    "# ind_xs = torch.linspace(0., 5., 2000)\n",
    "# ood_xs = torch.linspace(-5., 0., 2000)\n",
    "# model.eval()\n",
    "# with torch.no_grad():\n",
    "#     preds = model(torch.cat([ood_xs, ind_xs]))\n",
    "#     lower, upper = preds.confidence_region()\n",
    "#     ind_var = model(ind_xs).variance\n",
    "#     ood_var = model(ood_xs).variance\n",
    "    \n",
    "# plt.fill_between(torch.cat([ood_xs, ind_xs]), lower, upper, alpha=0.3)\n",
    "# plt.plot(torch.cat([ood_xs, ind_xs]), preds.mean)"
   ]
  },
  {
   "cell_type": "code",
   "execution_count": null,
   "id": "d6965c27",
   "metadata": {},
   "outputs": [],
   "source": [
    "# ind_noise = torch.sin(ind_xs * 4).pow(2.).mul(2.).add(1e-2)\n",
    "# ood_noise = torch.sin(ood_xs * 4).pow(2.).mul(2.).add(1e-2)"
   ]
  },
  {
   "cell_type": "code",
   "execution_count": null,
   "id": "43e0fabd",
   "metadata": {},
   "outputs": [],
   "source": [
    "# ind_test_model = GPModel((ind_noise).double(), ind_var.double()).double()\n",
    "# ood_test_model = GPModel((ood_noise).double(), ood_var.double()).double()\n",
    "# ind_test_model.eval()\n",
    "# ood_test_model.eval()\n",
    "\n",
    "# cond_expec_xs = torch.linspace(0., 2., 101)\n",
    "# with torch.no_grad(), gpytorch.settings.skip_posterior_variances():\n",
    "#     with gpytorch.settings.max_cholesky_size(1e6):\n",
    "#         ind_test_cond_expec = ind_test_model(torch.tensor(cond_expec_xs).double()).mean\n",
    "#         ood_test_cond_expec = ood_test_model(torch.tensor(cond_expec_xs).double()).mean"
   ]
  },
  {
   "cell_type": "code",
   "execution_count": null,
   "id": "c65a83cc",
   "metadata": {},
   "outputs": [],
   "source": [
    "# plt.plot(cond_expec_xs, ind_test_cond_expec)\n",
    "# plt.plot(cond_expec_xs, ood_test_cond_expec)"
   ]
  },
  {
   "cell_type": "code",
   "execution_count": null,
   "id": "82fab103",
   "metadata": {},
   "outputs": [],
   "source": [
    "# plt.scatter((ind_noise).double(), ind_var.double(), s=2)\n",
    "# plt.scatter((ood_noise).double(), ood_var.double(), s=2)"
   ]
  },
  {
   "cell_type": "code",
   "execution_count": null,
   "id": "79df9c6b",
   "metadata": {},
   "outputs": [],
   "source": []
  },
  {
   "cell_type": "code",
   "execution_count": null,
   "id": "8075f231",
   "metadata": {},
   "outputs": [],
   "source": []
  }
 ],
 "metadata": {
  "kernelspec": {
   "display_name": "Python 3 (ipykernel)",
   "language": "python",
   "name": "python3"
  },
  "language_info": {
   "codemirror_mode": {
    "name": "ipython",
    "version": 3
   },
   "file_extension": ".py",
   "mimetype": "text/x-python",
   "name": "python",
   "nbconvert_exporter": "python",
   "pygments_lexer": "ipython3",
   "version": "3.8.12"
  }
 },
 "nbformat": 4,
 "nbformat_minor": 5
}
